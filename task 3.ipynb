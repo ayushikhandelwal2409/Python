{
 "cells": [
  {
   "cell_type": "markdown",
   "id": "d03bfc03",
   "metadata": {},
   "source": [
    "Import libraries"
   ]
  },
  {
   "cell_type": "code",
   "execution_count": 17,
   "id": "f3061860",
   "metadata": {},
   "outputs": [],
   "source": [
    "import pandas as pd\n",
    "import numpy as np\n",
    "from sklearn.datasets import load_iris, load_wine\n",
    "from sklearn.model_selection import train_test_split\n",
    "from sklearn.naive_bayes import GaussianNB\n",
    "from sklearn.linear_model import LogisticRegression\n",
    "from sklearn.tree import DecisionTreeClassifier\n",
    "from sklearn.metrics import accuracy_score, precision_score, recall_score, confusion_matrix"
   ]
  },
  {
   "cell_type": "markdown",
   "id": "f1c342df",
   "metadata": {},
   "source": [
    "load dataset"
   ]
  },
  {
   "cell_type": "code",
   "execution_count": 18,
   "id": "982567f5",
   "metadata": {},
   "outputs": [],
   "source": [
    "data = load_iris()\n",
    "# DataFrame Creation\n",
    "df = pd.DataFrame(data.data, columns=data.feature_names)\n",
    "df['target'] = data.target"
   ]
  },
  {
   "cell_type": "markdown",
   "id": "97ce685f",
   "metadata": {},
   "source": [
    "Train-Test Split"
   ]
  },
  {
   "cell_type": "code",
   "execution_count": 19,
   "id": "010be766",
   "metadata": {},
   "outputs": [],
   "source": [
    "# Splitting the data into features and target\n",
    "X = df.drop('target', axis=1)\n",
    "y = df['target']\n",
    "\n",
    "X_train, X_test, y_train, y_test = train_test_split(X, y, test_size=0.3, random_state=42)"
   ]
  },
  {
   "cell_type": "markdown",
   "id": "3e47ebcb",
   "metadata": {},
   "source": [
    "Model Training:\n",
    "Trained three classifiers: GaussianNB, LogisticRegression, and DecisionTreeClassifier"
   ]
  },
  {
   "cell_type": "code",
   "execution_count": 20,
   "id": "de195158",
   "metadata": {},
   "outputs": [],
   "source": [
    "# Training GaussianNB classifier\n",
    "gnb = GaussianNB()\n",
    "gnb.fit(X_train, y_train)\n",
    "\n",
    "# prediction\n",
    "y_pred_gnb = gnb.predict(X_test)"
   ]
  },
  {
   "cell_type": "code",
   "execution_count": 21,
   "id": "ea0f6c6b",
   "metadata": {},
   "outputs": [
    {
     "name": "stdout",
     "output_type": "stream",
     "text": [
      "GaussianNB Performance:\n",
      "Accuracy: 97.78%\n",
      "Precision: 0.98\n",
      "Recall: 0.98\n",
      "Confusion Matrix:\n",
      "[[19  0  0]\n",
      " [ 0 12  1]\n",
      " [ 0  0 13]]\n"
     ]
    }
   ],
   "source": [
    "# Evaluating GaussianNB performance\n",
    "accuracy_gnb = accuracy_score(y_test, y_pred_gnb)\n",
    "precision_gnb = precision_score(y_test, y_pred_gnb, average='weighted')\n",
    "recall_gnb = recall_score(y_test, y_pred_gnb, average='weighted')\n",
    "conf_matrix_gnb = confusion_matrix(y_test, y_pred_gnb)\n",
    "\n",
    "print(\"GaussianNB Performance:\")\n",
    "print(f'Accuracy: {accuracy_gnb * 100:.2f}%')\n",
    "print(f'Precision: {precision_gnb:.2f}')\n",
    "print(f'Recall: {recall_gnb:.2f}')\n",
    "print('Confusion Matrix:')\n",
    "print(conf_matrix_gnb)"
   ]
  },
  {
   "cell_type": "code",
   "execution_count": 22,
   "id": "6882d617",
   "metadata": {},
   "outputs": [
    {
     "name": "stdout",
     "output_type": "stream",
     "text": [
      "\n",
      "Logistic Regression Performance:\n",
      "Accuracy: 100.00%\n",
      "Precision: 1.00\n",
      "Recall: 1.00\n",
      "Confusion Matrix:\n",
      "[[19  0  0]\n",
      " [ 0 13  0]\n",
      " [ 0  0 13]]\n"
     ]
    }
   ],
   "source": [
    "# Training Logistic Regression classifier\n",
    "lr = LogisticRegression(max_iter=200)\n",
    "lr.fit(X_train, y_train)\n",
    "y_pred_lr = lr.predict(X_test)\n",
    "\n",
    "# Evaluating Logistic Regression performance\n",
    "accuracy_lr = accuracy_score(y_test, y_pred_lr)\n",
    "precision_lr = precision_score(y_test, y_pred_lr, average='weighted')\n",
    "recall_lr = recall_score(y_test, y_pred_lr, average='weighted')\n",
    "conf_matrix_lr = confusion_matrix(y_test, y_pred_lr)\n",
    "\n",
    "print(\"\\nLogistic Regression Performance:\")\n",
    "print(f'Accuracy: {accuracy_lr * 100:.2f}%')\n",
    "print(f'Precision: {precision_lr:.2f}')\n",
    "print(f'Recall: {recall_lr:.2f}')\n",
    "print('Confusion Matrix:')\n",
    "print(conf_matrix_lr)"
   ]
  },
  {
   "cell_type": "code",
   "execution_count": 23,
   "id": "00d6f5fb",
   "metadata": {},
   "outputs": [
    {
     "name": "stdout",
     "output_type": "stream",
     "text": [
      "\n",
      "Decision Tree Performance:\n",
      "Accuracy: 100.00%\n",
      "Precision: 1.00\n",
      "Recall: 1.00\n",
      "Confusion Matrix:\n",
      "[[19  0  0]\n",
      " [ 0 13  0]\n",
      " [ 0  0 13]]\n"
     ]
    }
   ],
   "source": [
    "# Training Decision Tree classifier\n",
    "dt = DecisionTreeClassifier()\n",
    "dt.fit(X_train, y_train)\n",
    "y_pred_dt = dt.predict(X_test)\n",
    "\n",
    "# Evaluating Decision Tree performance\n",
    "accuracy_dt = accuracy_score(y_test, y_pred_dt)\n",
    "precision_dt = precision_score(y_test, y_pred_dt, average='weighted')\n",
    "recall_dt = recall_score(y_test, y_pred_dt, average='weighted')\n",
    "conf_matrix_dt = confusion_matrix(y_test, y_pred_dt)\n",
    "\n",
    "print(\"\\nDecision Tree Performance:\")\n",
    "print(f'Accuracy: {accuracy_dt * 100:.2f}%')\n",
    "print(f'Precision: {precision_dt:.2f}')\n",
    "print(f'Recall: {recall_dt:.2f}')\n",
    "print('Confusion Matrix:')\n",
    "print(conf_matrix_dt)"
   ]
  },
  {
   "cell_type": "markdown",
   "id": "ef872fb5",
   "metadata": {},
   "source": [
    "Comparison"
   ]
  },
  {
   "cell_type": "code",
   "execution_count": 24,
   "id": "3fed0992",
   "metadata": {},
   "outputs": [
    {
     "name": "stdout",
     "output_type": "stream",
     "text": [
      "\n",
      "Comparison of Classifiers:\n",
      "GaussianNB Accuracy: 97.78%\n",
      "Logistic Regression Accuracy: 100.00%\n",
      "Decision Tree Accuracy: 100.00%\n"
     ]
    }
   ],
   "source": [
    "# Brief Comparison\n",
    "print(\"\\nComparison of Classifiers:\")\n",
    "print(f\"GaussianNB Accuracy: {accuracy_gnb * 100:.2f}%\")\n",
    "print(f\"Logistic Regression Accuracy: {accuracy_lr * 100:.2f}%\")\n",
    "print(f\"Decision Tree Accuracy: {accuracy_dt * 100:.2f}%\")"
   ]
  }
 ],
 "metadata": {
  "kernelspec": {
   "display_name": "Python 3",
   "language": "python",
   "name": "python3"
  },
  "language_info": {
   "codemirror_mode": {
    "name": "ipython",
    "version": 3
   },
   "file_extension": ".py",
   "mimetype": "text/x-python",
   "name": "python",
   "nbconvert_exporter": "python",
   "pygments_lexer": "ipython3",
   "version": "3.13.5"
  }
 },
 "nbformat": 4,
 "nbformat_minor": 5
}
