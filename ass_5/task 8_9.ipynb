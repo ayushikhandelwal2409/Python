{
 "cells": [
  {
   "cell_type": "markdown",
   "id": "e372bae3",
   "metadata": {},
   "source": [
    "Task 8:\n"
   ]
  },
  {
   "cell_type": "code",
   "execution_count": 71,
   "id": "702b7eec",
   "metadata": {},
   "outputs": [],
   "source": [
    "import pandas as pd\n",
    "import numpy as np\n",
    "import time\n",
    "from sklearn.model_selection import train_test_split\n",
    "from sklearn.tree import DecisionTreeClassifier\n",
    "from sklearn.ensemble import RandomForestClassifier\n",
    "from sklearn.preprocessing import LabelEncoder\n",
    "from sklearn.metrics import accuracy_score, precision_score, recall_score\n",
    "import matplotlib.pyplot as plt"
   ]
  },
  {
   "cell_type": "code",
   "execution_count": 72,
   "id": "907f4f8c",
   "metadata": {},
   "outputs": [],
   "source": [
    "url = 'https://raw.githubusercontent.com/datasciencedojo/datasets/master/titanic.csv'\n",
    "data = pd.read_csv(url)"
   ]
  },
  {
   "cell_type": "code",
   "execution_count": 73,
   "id": "6f7dbdb2",
   "metadata": {},
   "outputs": [
    {
     "name": "stdout",
     "output_type": "stream",
     "text": [
      "<class 'pandas.core.frame.DataFrame'>\n",
      "RangeIndex: 891 entries, 0 to 890\n",
      "Data columns (total 12 columns):\n",
      " #   Column       Non-Null Count  Dtype  \n",
      "---  ------       --------------  -----  \n",
      " 0   PassengerId  891 non-null    int64  \n",
      " 1   Survived     891 non-null    int64  \n",
      " 2   Pclass       891 non-null    int64  \n",
      " 3   Name         891 non-null    object \n",
      " 4   Sex          891 non-null    object \n",
      " 5   Age          714 non-null    float64\n",
      " 6   SibSp        891 non-null    int64  \n",
      " 7   Parch        891 non-null    int64  \n",
      " 8   Ticket       891 non-null    object \n",
      " 9   Fare         891 non-null    float64\n",
      " 10  Cabin        204 non-null    object \n",
      " 11  Embarked     889 non-null    object \n",
      "dtypes: float64(2), int64(5), object(5)\n",
      "memory usage: 83.7+ KB\n"
     ]
    }
   ],
   "source": [
    "data.info()"
   ]
  },
  {
   "cell_type": "code",
   "execution_count": 74,
   "id": "bafdf2bb",
   "metadata": {},
   "outputs": [],
   "source": [
    "# drop the column which has most null values\n",
    "data = data.drop(columns=['Cabin'],axis=1)\n",
    "\n",
    "# drop of null or missing values\n",
    "data.dropna(inplace=True)"
   ]
  },
  {
   "cell_type": "code",
   "execution_count": 75,
   "id": "ed8f6cbc",
   "metadata": {},
   "outputs": [],
   "source": [
    "# encode categorical variables\n",
    "data['Sex'] = LabelEncoder().fit_transform(data['Sex'])"
   ]
  },
  {
   "cell_type": "code",
   "execution_count": 76,
   "id": "24d69d0a",
   "metadata": {},
   "outputs": [],
   "source": [
    "X = data[['Pclass','Sex','Age','Fare']]\n",
    "y = data['Survived']"
   ]
  },
  {
   "cell_type": "code",
   "execution_count": 77,
   "id": "33cb9e71",
   "metadata": {},
   "outputs": [],
   "source": [
    "X_train, X_test, y_train, y_test = train_test_split(X,y,test_size=0.2,random_state=42)"
   ]
  },
  {
   "cell_type": "code",
   "execution_count": 78,
   "id": "ce31a0c4",
   "metadata": {},
   "outputs": [],
   "source": [
    "start = time.time()\n",
    "\n",
    "clf_rf = RandomForestClassifier(n_estimators=100, random_state=42)\n",
    "clf_rf.fit(X_train,y_train)\n",
    "y_pred_rf = clf_rf.predict(X_test)\n",
    "\n",
    "total_time_rf = time.time()-start"
   ]
  },
  {
   "cell_type": "code",
   "execution_count": 79,
   "id": "4dbe3603",
   "metadata": {},
   "outputs": [
    {
     "name": "stdout",
     "output_type": "stream",
     "text": [
      "Accuracy:     0.7692307692307693\n",
      "Precision:    0.7678571428571429\n",
      "Recall:       0.6825396825396826\n"
     ]
    }
   ],
   "source": [
    "print(\"Accuracy:    \", accuracy_score(y_test, y_pred_rf))\n",
    "print(\"Precision:   \", precision_score(y_test, y_pred_rf))\n",
    "print(\"Recall:      \", recall_score(y_test, y_pred_rf))"
   ]
  },
  {
   "cell_type": "code",
   "execution_count": 80,
   "id": "6ac60a18",
   "metadata": {},
   "outputs": [],
   "source": [
    "start = time.time()\n",
    "\n",
    "clf_dt = DecisionTreeClassifier(random_state=42)\n",
    "clf_dt.fit(X_train,y_train)\n",
    "y_pred_dt = clf_dt.predict(X_test)\n",
    "\n",
    "total_time_dt = time.time()-start"
   ]
  },
  {
   "cell_type": "code",
   "execution_count": 81,
   "id": "1ddf9139",
   "metadata": {},
   "outputs": [
    {
     "name": "stdout",
     "output_type": "stream",
     "text": [
      "Accuracy:     0.6993006993006993\n",
      "Precision:    0.6785714285714286\n",
      "Recall:       0.6031746031746031\n"
     ]
    }
   ],
   "source": [
    "print(\"Accuracy:    \", accuracy_score(y_test, y_pred_dt))\n",
    "print(\"Precision:   \", precision_score(y_test, y_pred_dt))\n",
    "print(\"Recall:      \", recall_score(y_test, y_pred_dt))"
   ]
  },
  {
   "cell_type": "code",
   "execution_count": 82,
   "id": "497744ea",
   "metadata": {},
   "outputs": [
    {
     "data": {
      "image/png": "[encoded data removed]",
      "text/plain": [
       "<Figure size 800x400 with 1 Axes>"
      ]
     },
     "metadata": {},
     "output_type": "display_data"
    }
   ],
   "source": [
    "# Plotting feature importances\n",
    "feature = X.columns\n",
    "importances = clf_rf.feature_importances_\n",
    "\n",
    "plt.figure(figsize=(8, 4))\n",
    "plt.barh(feature, importances, color='skyblue')\n",
    "plt.title(\"Feature Importance\")\n",
    "plt.xlabel(\"Importance\")\n",
    "plt.show()\n"
   ]
  },
  {
   "cell_type": "markdown",
   "id": "cce2e044",
   "metadata": {},
   "source": [
    "Task 9:"
   ]
  },
  {
   "cell_type": "code",
   "execution_count": 83,
   "id": "645a4a4e",
   "metadata": {},
   "outputs": [],
   "source": [
    "from sklearn.ensemble import AdaBoostClassifier\n",
    "from sklearn.metrics import f1_score"
   ]
  },
  {
   "cell_type": "code",
   "execution_count": 84,
   "id": "dac44492",
   "metadata": {},
   "outputs": [],
   "source": [
    "# using previous dataset\n",
    "# adaBoost classifier\n",
    "start = time.time()\n",
    "\n",
    "clf_ada = AdaBoostClassifier(random_state=42)\n",
    "clf_ada.fit(X_train,y_train)\n",
    "y_pred_ada = clf_ada.predict(X_test)\n",
    "\n",
    "total_time_ada = time.time()-start"
   ]
  },
  {
   "cell_type": "code",
   "execution_count": 85,
   "id": "8bb39fa6",
   "metadata": {},
   "outputs": [
    {
     "name": "stdout",
     "output_type": "stream",
     "text": [
      "Accuracy:         0.8181818181818182\n",
      "F1-score:         0.7758620689655172\n",
      "Training time:    0.108s\n"
     ]
    }
   ],
   "source": [
    "print(\"Accuracy:        \", accuracy_score(y_test, y_pred_ada))\n",
    "print(\"F1-score:        \", f1_score(y_test, y_pred_ada))\n",
    "print(\"Training time:    %.3fs\" % total_time_ada)"
   ]
  },
  {
   "cell_type": "code",
   "execution_count": 86,
   "id": "3ead984d",
   "metadata": {},
   "outputs": [
    {
     "name": "stdout",
     "output_type": "stream",
     "text": [
      "Accuracy:         0.7692307692307693\n",
      "F1-score:         0.7226890756302521\n",
      "Training time:    0.162s\n"
     ]
    }
   ],
   "source": [
    "print(\"Accuracy:        \", accuracy_score(y_test, y_pred_rf))\n",
    "print(\"F1-score:        \", f1_score(y_test, y_pred_rf))\n",
    "print(\"Training time:    %.3fs\" % total_time_rf)"
   ]
  },
  {
   "cell_type": "code",
   "execution_count": 87,
   "id": "23922691",
   "metadata": {},
   "outputs": [
    {
     "name": "stdout",
     "output_type": "stream",
     "text": [
      "Accuracy:         0.6993006993006993\n",
      "F1-score:         0.6386554621848739\n",
      "Training time:    0.005s\n"
     ]
    }
   ],
   "source": [
    "print(\"Accuracy:        \", accuracy_score(y_test, y_pred_dt))\n",
    "print(\"F1-score:        \", f1_score(y_test, y_pred_dt))\n",
    "print(\"Training time:    %.3fs\" % total_time_dt)"
   ]
  },
  {
   "cell_type": "markdown",
   "id": "82c63c70",
   "metadata": {},
   "source": [
    "1--> Accuracy and fi-score of adaboost is better than random forest and decision tree classifiers.\n",
    "2--> Training time of decision tree is faster than adaboost and randomforest.\n"
   ]
  }
 ],
 "metadata": {
  "kernelspec": {
   "display_name": "Python 3",
   "language": "python",
   "name": "python3"
  },
  "language_info": {
   "codemirror_mode": {
    "name": "ipython",
    "version": 3
   },
   "file_extension": ".py",
   "mimetype": "text/x-python",
   "name": "python",
   "nbconvert_exporter": "python",
   "pygments_lexer": "ipython3",
   "version": "3.13.5"
  }
 },
 "nbformat": 4,
 "nbformat_minor": 5
}
